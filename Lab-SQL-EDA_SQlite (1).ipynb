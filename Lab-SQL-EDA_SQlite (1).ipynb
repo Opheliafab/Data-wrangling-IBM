{
 "cells": [
  {
   "cell_type": "markdown",
   "metadata": {},
   "source": [
    "<center>\n",
    "<img src=\"https://cf-courses-data.s3.us.cloud-object-storage.appdomain.cloud/IBMDeveloperSkillsNetwork-RP0321EN-SkillsNetwork/labs/module_1/images/SN_web_lightmode.png\" width=\"300\"> \n",
    "</center>\n",
    "\n",
    "# Assignment: Exploratory Data Analysis with SQL\n",
    "Estimated time needed: 60 minutes\n",
    "\n",
    "\n",
    "# Introduction\n",
    "Using this R notebook you will perform exploratory data analysis using SQL queries with the RSQLite R package. You will be graded on the accuracy of your results as well as the content of your SQL queries.\n"
   ]
  },
  {
   "cell_type": "markdown",
   "metadata": {},
   "source": [
    "### Establish your SQL Lite connection\n",
    "\n",
    "#### Install RSQLite package\n",
    "The RSQlite  package needs to be installed in your notebook. Let’s load the RSQLite package by clicking on the following cell and executing it (Shift+Enter):\n"
   ]
  },
  {
   "cell_type": "code",
   "execution_count": 1,
   "metadata": {
    "tags": []
   },
   "outputs": [],
   "source": [
    "install.packages(\"https://cran.r-project.org/src/contrib/Archive/RSQLite/RSQLite_0.10.0.tar.gz\", repos = NULL, type = \"source\", dependencies = TRUE) "
   ]
  },
  {
   "cell_type": "markdown",
   "metadata": {},
   "source": [
    "#### Restart Kernel\n",
    "\n",
    "After installing the RSQLite package, it is necessary to restart R Kernel. Click **Kernel** > **Restart Kernel** from the main menu. This will register the newly installed packages. Now proceed to load the RSQLite package. \n"
   ]
  },
  {
   "cell_type": "markdown",
   "metadata": {},
   "source": [
    "#### Load RSQLite\n",
    "Load the 'RSQLite' library, and use the 'dbConnect( )' function as you did in the previous labs to establish the connection to your SQLite database.  \n",
    "You are now ready to start running SQL queries using the RSQLite library as you did in Course 3.\n"
   ]
  },
  {
   "cell_type": "code",
   "execution_count": 1,
   "metadata": {
    "tags": []
   },
   "outputs": [
    {
     "name": "stderr",
     "output_type": "stream",
     "text": [
      "Loading required package: DBI\n",
      "── Attaching packages ─────────────────────────────────────── tidyverse 1.3.0 ──\n",
      "✔ ggplot2 3.3.0     ✔ purrr   0.3.4\n",
      "✔ tibble  3.0.1     ✔ dplyr   0.8.5\n",
      "✔ tidyr   1.0.2     ✔ stringr 1.4.0\n",
      "✔ readr   1.3.1     ✔ forcats 0.5.0\n",
      "── Conflicts ────────────────────────────────────────── tidyverse_conflicts() ──\n",
      "✖ dplyr::filter() masks stats::filter()\n",
      "✖ dplyr::lag()    masks stats::lag()\n"
     ]
    }
   ],
   "source": [
    "library(\"RSQLite\")\n",
    "library(tidyverse)"
   ]
  },
  {
   "cell_type": "code",
   "execution_count": 2,
   "metadata": {
    "tags": []
   },
   "outputs": [
    {
     "ename": "ERROR",
     "evalue": "Error in sqliteExecStatement(conn, statement, ...): RS-DBI driver: (error in statement: table SEOUL_BIKE_SHARING already exists)\n",
     "execution_count": 2,
     "output_type": "error",
     "traceback": [
      "Error in sqliteExecStatement(conn, statement, ...): RS-DBI driver: (error in statement: table SEOUL_BIKE_SHARING already exists)\nTraceback:\n",
      "1. dbExecute(con, \"CREATE TABLE SEOUL_BIKE_SHARING(\\n                            DATE DATE NOT NULL,\\n                            RENTED_BIKE_COUNT INTEGER NOT NULL,\\n                            HOUR INTEGER NOT NULL,\\n                            TEMPERATURE FLOAT(6) NOT NULL,\\n                            HUMIDITY INTEGER NOT NULL,\\n                            WIND_SPEED FLOAT(6) NOT NULL,\\n                            VISIBILITY INTEGER NOT NULL,\\n                            DEW_POINT_TEMPERATURE FLOAT(6) NOT NULL,\\n                            SOLAR_RADIATION FLOAT(6) NOT NULL,\\n                            RAINFALL FLOAT(6) NOT NULL,\\n                            SNOWFALL FLOAT(6) NOT NULL,\\n                            SEASONS VARCHAR(20) NOT NULL,\\n                            HOLIDAY VARCHAR(20) NOT NULL,\\n                            FUNCTIONING_DAY VARCHAR(20) NOT NULL\\n                        )\")",
      "2. dbExecute(con, \"CREATE TABLE SEOUL_BIKE_SHARING(\\n                            DATE DATE NOT NULL,\\n                            RENTED_BIKE_COUNT INTEGER NOT NULL,\\n                            HOUR INTEGER NOT NULL,\\n                            TEMPERATURE FLOAT(6) NOT NULL,\\n                            HUMIDITY INTEGER NOT NULL,\\n                            WIND_SPEED FLOAT(6) NOT NULL,\\n                            VISIBILITY INTEGER NOT NULL,\\n                            DEW_POINT_TEMPERATURE FLOAT(6) NOT NULL,\\n                            SOLAR_RADIATION FLOAT(6) NOT NULL,\\n                            RAINFALL FLOAT(6) NOT NULL,\\n                            SNOWFALL FLOAT(6) NOT NULL,\\n                            SEASONS VARCHAR(20) NOT NULL,\\n                            HOLIDAY VARCHAR(20) NOT NULL,\\n                            FUNCTIONING_DAY VARCHAR(20) NOT NULL\\n                        )\")",
      "3. dbSendStatement(conn, statement, ...)",
      "4. dbSendStatement(conn, statement, ...)",
      "5. dbSendQuery(conn, statement, ...)",
      "6. dbSendQuery(conn, statement, ...)",
      "7. sqliteExecStatement(conn, statement, ...)"
     ]
    }
   ],
   "source": [
    "# provide your solution here to connect db\n",
    "con <- dbConnect(RSQLite::SQLite(), \"MyDB\")\n",
    "\n",
    "df1 <- dbExecute(con, \"CREATE TABLE SEOUL_BIKE_SHARING(\n",
    "                            DATE DATE NOT NULL,\n",
    "                            RENTED_BIKE_COUNT INTEGER NOT NULL,\n",
    "                            HOUR INTEGER NOT NULL,\n",
    "                            TEMPERATURE FLOAT(6) NOT NULL,\n",
    "                            HUMIDITY INTEGER NOT NULL,\n",
    "                            WIND_SPEED FLOAT(6) NOT NULL,\n",
    "                            VISIBILITY INTEGER NOT NULL,\n",
    "                            DEW_POINT_TEMPERATURE FLOAT(6) NOT NULL,\n",
    "                            SOLAR_RADIATION FLOAT(6) NOT NULL,\n",
    "                            RAINFALL FLOAT(6) NOT NULL,\n",
    "                            SNOWFALL FLOAT(6) NOT NULL,\n",
    "                            SEASONS VARCHAR(20) NOT NULL,\n",
    "                            HOLIDAY VARCHAR(20) NOT NULL,\n",
    "                            FUNCTIONING_DAY VARCHAR(20) NOT NULL\n",
    "                        )\"\n",
    "                    )\n",
    "                 \n",
    "df2 <- dbExecute(con, \"CREATE TABLE CITIES_WEATHER_FORECAST(\n",
    "                        CITY VARCHAR(20) NOT NULL,\n",
    "                        WEATHER VARCHAR(20) NOT NULL,\n",
    "                        VISIBILITY INTEGER NOT NULL,\n",
    "                        TEMP FLOAT(6) NOT NULL,\n",
    "                        TEMP_MIN FLOAT(6) NOT NULL,\n",
    "                        TEMP_MAX FLOAT(6) NOT NULL,\n",
    "                        PRESSURE INTEGER NOT NULL,\n",
    "                        HUMIDITY INTEGER NOT NULL,\n",
    "                        WIND_SPEED FLOAT(6) NOT NULL,\n",
    "                        WIND_DEG INTEGER NOT NULL,\n",
    "                        SEASON VARCHAR(20) NOT NULL,\n",
    "                        FORECAST_DATETIME INTEGER NOT NULL\n",
    "                        )\"\n",
    "\n",
    "                )\n",
    "\n",
    "df3 <- dbExecute(con, \"CREATE TABLE BIKE_SHARING_SYSTEMS(\n",
    "                            COUNTRY VARCHAR(20) NOT NULL,\n",
    "                            CITY VARCHAR(20) NOT NULL,\n",
    "                            SYSTEM VARCHAR(20) NOT NULL,\n",
    "                            BICYCLES VARCHAR(20) NOT NULL\n",
    "                        )\"\n",
    "                )\n",
    "\n",
    "df4 <- dbExecute(con, \"CREATE TABLE WORLD_CITIES(\n",
    "                            CITY VARCHAR(20) NOT NULL,\n",
    "                            CITY_ASCII VARCHAR(20) NOT NULL,\n",
    "                            LAT FLOAT(6) NOT NULL,\n",
    "                            LNG FLOAT(6) NOT NULL,\n",
    "                            COUNTRY VARCHAR(20) NOT NULL,\n",
    "                            ISO2 VARCHAR(20) NOT NULL,\n",
    "                            ISO3 VARCHAR(20) NOT NULL,\n",
    "                            ADMIN_NAME VARCHAR(20) NOT NULL,\n",
    "                            CAPITAL VARCHAR(20) NOT NULL,\n",
    "                            POPULATION INTEGER NOT NULL,\n",
    "                            ID VARCHAR(20) NOT NULL\n",
    "                            )\"\n",
    "                )\n",
    "\n",
    "\n"
   ]
  },
  {
   "cell_type": "markdown",
   "metadata": {},
   "source": [
    "Download the following csv files:\n",
    "\n",
    "*   [WORLD_CITIES](https://cf-courses-data.s3.us.cloud-object-storage.appdomain.cloud/IBMDeveloperSkillsNetwork-RP0321EN-SkillsNetwork/labs/datasets/world_cities.csv)\n",
    "\n",
    "*   [BIKE_SHARING_SYSTEMS](https://cf-courses-data.s3.us.cloud-object-storage.appdomain.cloud/IBMDeveloperSkillsNetwork-RP0321EN-SkillsNetwork/labs/datasets/bike_sharing_systems.csv)\n",
    "\n",
    "*   [CITIES_WEATHER_FORECAST](https://cf-courses-data.s3.us.cloud-object-storage.appdomain.cloud/IBMDeveloperSkillsNetwork-RP0321EN-SkillsNetwork/labs/datasets/cities_weather_forecast.csv)\n",
    "\n",
    "*   [SEOUL_BIKE_SHARING](https://cf-courses-data.s3.us.cloud-object-storage.appdomain.cloud/IBMDeveloperSkillsNetwork-RP0321EN-SkillsNetwork/labs/datasets/seoul_bike_sharing.csv)\n",
    "\n",
    "and load the csv's  into 4 tables as mentioned below\n",
    "* SEOUL_BIKE_SHARING\n",
    "\n",
    "* CITIES_WEATHER_FORECAST\n",
    "\n",
    "* BIKE_SHARING_SYSTEMS \n",
    "\n",
    "*  WORLD_CITIES\n",
    "\n",
    "> Hint : Use the read_csv() function and dbWriteTable() functions\n"
   ]
  },
  {
   "cell_type": "markdown",
   "metadata": {},
   "source": [
    "\n",
    "## Task 1 - Record Count\n",
    "#### Determine how many records are in the seoul_bike_sharing dataset.\n"
   ]
  },
  {
   "cell_type": "markdown",
   "metadata": {},
   "source": [
    "### Solution 1\n"
   ]
  },
  {
   "cell_type": "code",
   "execution_count": 14,
   "metadata": {
    "tags": []
   },
   "outputs": [
    {
     "name": "stderr",
     "output_type": "stream",
     "text": [
      "Parsed with column specification:\n",
      "cols(\n",
      "  DATE = col_character(),\n",
      "  RENTED_BIKE_COUNT = col_double(),\n",
      "  HOUR = col_double(),\n",
      "  TEMPERATURE = col_double(),\n",
      "  HUMIDITY = col_double(),\n",
      "  WIND_SPEED = col_double(),\n",
      "  VISIBILITY = col_double(),\n",
      "  DEW_POINT_TEMPERATURE = col_double(),\n",
      "  SOLAR_RADIATION = col_double(),\n",
      "  RAINFALL = col_double(),\n",
      "  SNOWFALL = col_double(),\n",
      "  SEASONS = col_character(),\n",
      "  HOLIDAY = col_character(),\n",
      "  FUNCTIONING_DAY = col_character()\n",
      ")\n"
     ]
    },
    {
     "data": {
      "text/html": [
       "<style>\n",
       ".list-inline {list-style: none; margin:0; padding: 0}\n",
       ".list-inline>li {display: inline-block}\n",
       ".list-inline>li:not(:last-child)::after {content: \"\\00b7\"; padding: 0 .5ex}\n",
       "</style>\n",
       "<ol class=list-inline><li>'BIKE_SHARING_SYSTEMS'</li><li>'CITIES_WEATHER_FORECAST'</li><li>'SEOUL_BIKE_SHARING'</li><li>'WORLD_CITIES'</li></ol>\n"
      ],
      "text/latex": [
       "\\begin{enumerate*}\n",
       "\\item 'BIKE\\_SHARING\\_SYSTEMS'\n",
       "\\item 'CITIES\\_WEATHER\\_FORECAST'\n",
       "\\item 'SEOUL\\_BIKE\\_SHARING'\n",
       "\\item 'WORLD\\_CITIES'\n",
       "\\end{enumerate*}\n"
      ],
      "text/markdown": [
       "1. 'BIKE_SHARING_SYSTEMS'\n",
       "2. 'CITIES_WEATHER_FORECAST'\n",
       "3. 'SEOUL_BIKE_SHARING'\n",
       "4. 'WORLD_CITIES'\n",
       "\n",
       "\n"
      ],
      "text/plain": [
       "[1] \"BIKE_SHARING_SYSTEMS\"    \"CITIES_WEATHER_FORECAST\"\n",
       "[3] \"SEOUL_BIKE_SHARING\"      \"WORLD_CITIES\"           "
      ]
     },
     "metadata": {},
     "output_type": "display_data"
    },
    {
     "data": {
      "text/plain": [
       "     DATE           RENTED_BIKE_COUNT      HOUR        TEMPERATURE    \n",
       " Length:8465        Min.   :   2.0    Min.   : 0.00   Min.   :-17.80  \n",
       " Class :character   1st Qu.: 214.0    1st Qu.: 6.00   1st Qu.:  3.00  \n",
       " Mode  :character   Median : 542.0    Median :12.00   Median : 13.50  \n",
       "                    Mean   : 729.2    Mean   :11.51   Mean   : 12.77  \n",
       "                    3rd Qu.:1084.0    3rd Qu.:18.00   3rd Qu.: 22.70  \n",
       "                    Max.   :3556.0    Max.   :23.00   Max.   : 39.40  \n",
       "    HUMIDITY       WIND_SPEED      VISIBILITY   DEW_POINT_TEMPERATURE\n",
       " Min.   : 0.00   Min.   :0.000   Min.   :  27   Min.   :-30.600      \n",
       " 1st Qu.:42.00   1st Qu.:0.900   1st Qu.: 935   1st Qu.: -5.100      \n",
       " Median :57.00   Median :1.500   Median :1690   Median :  4.700      \n",
       " Mean   :58.15   Mean   :1.726   Mean   :1434   Mean   :  3.945      \n",
       " 3rd Qu.:74.00   3rd Qu.:2.300   3rd Qu.:2000   3rd Qu.: 15.200      \n",
       " Max.   :98.00   Max.   :7.400   Max.   :2000   Max.   : 27.200      \n",
       " SOLAR_RADIATION     RAINFALL          SNOWFALL         SEASONS         \n",
       " Min.   :0.0000   Min.   : 0.0000   Min.   :0.00000   Length:8465       \n",
       " 1st Qu.:0.0000   1st Qu.: 0.0000   1st Qu.:0.00000   Class :character  \n",
       " Median :0.0100   Median : 0.0000   Median :0.00000   Mode  :character  \n",
       " Mean   :0.5679   Mean   : 0.1491   Mean   :0.07769                     \n",
       " 3rd Qu.:0.9300   3rd Qu.: 0.0000   3rd Qu.:0.00000                     \n",
       " Max.   :3.5200   Max.   :35.0000   Max.   :8.80000                     \n",
       "   HOLIDAY          FUNCTIONING_DAY   \n",
       " Length:8465        Length:8465       \n",
       " Class :character   Class :character  \n",
       " Mode  :character   Mode  :character  \n",
       "                                      \n",
       "                                      \n",
       "                                      "
      ]
     },
     "metadata": {},
     "output_type": "display_data"
    }
   ],
   "source": [
    "# provide your solution here\n",
    "\n",
    "seouldf <- read_csv(\"https://cf-courses-data.s3.us.cloud-object-storage.appdomain.cloud/IBMDeveloperSkillsNetwork-RP0321EN-SkillsNetwork/labs/datasets/seoul_bike_sharing.csv\")\n",
    "citiesdf <- read_csv(\"https://cf-courses-data.s3.us.cloud-object-storage.appdomain.cloud/IBMDeveloperSkillsNetwork-RP0321EN-SkillsNetwork/labs/datasets/cities_weather_forecast.csv\")\n",
    "bikedf <- read_csv(\"https://cf-courses-data.s3.us.cloud-object-storage.appdomain.cloud/IBMDeveloperSkillsNetwork-RP0321EN-SkillsNetwork/labs/datasets/bike_sharing_systems.csv\")\n",
    "worlddf <- read_csv(\"https://cf-courses-data.s3.us.cloud-object-storage.appdomain.cloud/IBMDeveloperSkillsNetwork-RP0321EN-SkillsNetwork/labs/datasets/world_cities.csv\")\n",
    "\n",
    "dbWriteTable(con, \"SEOUL_BIKE_SHARING\", seouldf, overwrite=TRUE, header=TRUE)\n",
    "dbWriteTable(con, \"CITIES_WEATHER_FORECAST\", citiesdf, overwrite=TRUE, header=TRUE)\n",
    "dbWriteTable(con, \"BIKE_SHARING_SYSTEMS\", bikedf, overwrite=TRUE, header=TRUE)\n",
    "dbWriteTable(con, \"WORLD_CITIES\", worlddf, overwrite=TRUE, header=TRUE)\n",
    "dbListTables(con)\n",
    "\n"
   ]
  },
  {
   "cell_type": "code",
   "execution_count": 3,
   "metadata": {
    "tags": []
   },
   "outputs": [
    {
     "data": {
      "text/html": [
       "<table>\n",
       "<caption>A data.frame: 1 × 1</caption>\n",
       "<thead>\n",
       "\t<tr><th></th><th scope=col>COUNT(*)</th></tr>\n",
       "\t<tr><th></th><th scope=col>&lt;int&gt;</th></tr>\n",
       "</thead>\n",
       "<tbody>\n",
       "\t<tr><th scope=row>1</th><td>8465</td></tr>\n",
       "</tbody>\n",
       "</table>\n"
      ],
      "text/latex": [
       "A data.frame: 1 × 1\n",
       "\\begin{tabular}{r|l}\n",
       "  & COUNT(*)\\\\\n",
       "  & <int>\\\\\n",
       "\\hline\n",
       "\t1 & 8465\\\\\n",
       "\\end{tabular}\n"
      ],
      "text/markdown": [
       "\n",
       "A data.frame: 1 × 1\n",
       "\n",
       "| <!--/--> | COUNT(*) &lt;int&gt; |\n",
       "|---|---|\n",
       "| 1 | 8465 |\n",
       "\n"
      ],
      "text/plain": [
       "  COUNT(*)\n",
       "1 8465    "
      ]
     },
     "metadata": {},
     "output_type": "display_data"
    }
   ],
   "source": [
    "dbGetQuery(con, 'SELECT COUNT(*) FROM SEOUL_BIKE_SHARING')"
   ]
  },
  {
   "cell_type": "markdown",
   "metadata": {},
   "source": [
    "## Task 2 - Operational Hours\n",
    "#### Determine how many hours had non-zero rented bike count.\n"
   ]
  },
  {
   "cell_type": "markdown",
   "metadata": {},
   "source": [
    "### Solution 2\n"
   ]
  },
  {
   "cell_type": "code",
   "execution_count": 4,
   "metadata": {
    "tags": []
   },
   "outputs": [
    {
     "data": {
      "text/html": [
       "<table>\n",
       "<caption>A data.frame: 1 × 1</caption>\n",
       "<thead>\n",
       "\t<tr><th></th><th scope=col>count(HOUR)</th></tr>\n",
       "\t<tr><th></th><th scope=col>&lt;int&gt;</th></tr>\n",
       "</thead>\n",
       "<tbody>\n",
       "\t<tr><th scope=row>1</th><td>8113</td></tr>\n",
       "</tbody>\n",
       "</table>\n"
      ],
      "text/latex": [
       "A data.frame: 1 × 1\n",
       "\\begin{tabular}{r|l}\n",
       "  & count(HOUR)\\\\\n",
       "  & <int>\\\\\n",
       "\\hline\n",
       "\t1 & 8113\\\\\n",
       "\\end{tabular}\n"
      ],
      "text/markdown": [
       "\n",
       "A data.frame: 1 × 1\n",
       "\n",
       "| <!--/--> | count(HOUR) &lt;int&gt; |\n",
       "|---|---|\n",
       "| 1 | 8113 |\n",
       "\n"
      ],
      "text/plain": [
       "  count(HOUR)\n",
       "1 8113       "
      ]
     },
     "metadata": {},
     "output_type": "display_data"
    }
   ],
   "source": [
    "# provide your solution here\n",
    "dbGetQuery(con, 'select count(HOUR) from SEOUL_BIKE_SHARING\n",
    "                where HOUR > 0')"
   ]
  },
  {
   "cell_type": "markdown",
   "metadata": {},
   "source": [
    "## Task 3 - Weather Outlook\n",
    "#### Query the the weather forecast for Seoul over the next 3 hours.\n",
    "Recall that the records in the CITIES_WEATHER_FORECAST dataset are 3 hours apart, so we just need the first record from the query.\n"
   ]
  },
  {
   "cell_type": "markdown",
   "metadata": {},
   "source": [
    "### Solution 3\n"
   ]
  },
  {
   "cell_type": "code",
   "execution_count": 5,
   "metadata": {
    "tags": []
   },
   "outputs": [
    {
     "data": {
      "text/html": [
       "<table>\n",
       "<caption>A data.frame: 1 × 13</caption>\n",
       "<thead>\n",
       "\t<tr><th></th><th scope=col>row_names</th><th scope=col>CITY</th><th scope=col>WEATHER</th><th scope=col>VISIBILITY</th><th scope=col>TEMP</th><th scope=col>TEMP_MIN</th><th scope=col>TEMP_MAX</th><th scope=col>PRESSURE</th><th scope=col>HUMIDITY</th><th scope=col>WIND_SPEED</th><th scope=col>WIND_DEG</th><th scope=col>SEASON</th><th scope=col>FORECAST_DATETIME</th></tr>\n",
       "\t<tr><th></th><th scope=col>&lt;chr&gt;</th><th scope=col>&lt;chr&gt;</th><th scope=col>&lt;chr&gt;</th><th scope=col>&lt;dbl&gt;</th><th scope=col>&lt;dbl&gt;</th><th scope=col>&lt;dbl&gt;</th><th scope=col>&lt;dbl&gt;</th><th scope=col>&lt;dbl&gt;</th><th scope=col>&lt;dbl&gt;</th><th scope=col>&lt;dbl&gt;</th><th scope=col>&lt;dbl&gt;</th><th scope=col>&lt;chr&gt;</th><th scope=col>&lt;chr&gt;</th></tr>\n",
       "</thead>\n",
       "<tbody>\n",
       "\t<tr><th scope=row>1</th><td>1</td><td>Seoul</td><td>Clear</td><td>10000</td><td>12.32</td><td>10.91</td><td>12.32</td><td>1015</td><td>50</td><td>2.18</td><td>248</td><td>Spring</td><td>1618574400.0</td></tr>\n",
       "</tbody>\n",
       "</table>\n"
      ],
      "text/latex": [
       "A data.frame: 1 × 13\n",
       "\\begin{tabular}{r|lllllllllllll}\n",
       "  & row\\_names & CITY & WEATHER & VISIBILITY & TEMP & TEMP\\_MIN & TEMP\\_MAX & PRESSURE & HUMIDITY & WIND\\_SPEED & WIND\\_DEG & SEASON & FORECAST\\_DATETIME\\\\\n",
       "  & <chr> & <chr> & <chr> & <dbl> & <dbl> & <dbl> & <dbl> & <dbl> & <dbl> & <dbl> & <dbl> & <chr> & <chr>\\\\\n",
       "\\hline\n",
       "\t1 & 1 & Seoul & Clear & 10000 & 12.32 & 10.91 & 12.32 & 1015 & 50 & 2.18 & 248 & Spring & 1618574400.0\\\\\n",
       "\\end{tabular}\n"
      ],
      "text/markdown": [
       "\n",
       "A data.frame: 1 × 13\n",
       "\n",
       "| <!--/--> | row_names &lt;chr&gt; | CITY &lt;chr&gt; | WEATHER &lt;chr&gt; | VISIBILITY &lt;dbl&gt; | TEMP &lt;dbl&gt; | TEMP_MIN &lt;dbl&gt; | TEMP_MAX &lt;dbl&gt; | PRESSURE &lt;dbl&gt; | HUMIDITY &lt;dbl&gt; | WIND_SPEED &lt;dbl&gt; | WIND_DEG &lt;dbl&gt; | SEASON &lt;chr&gt; | FORECAST_DATETIME &lt;chr&gt; |\n",
       "|---|---|---|---|---|---|---|---|---|---|---|---|---|---|\n",
       "| 1 | 1 | Seoul | Clear | 10000 | 12.32 | 10.91 | 12.32 | 1015 | 50 | 2.18 | 248 | Spring | 1618574400.0 |\n",
       "\n"
      ],
      "text/plain": [
       "  row_names CITY  WEATHER VISIBILITY TEMP  TEMP_MIN TEMP_MAX PRESSURE HUMIDITY\n",
       "1 1         Seoul Clear   10000      12.32 10.91    12.32    1015     50      \n",
       "  WIND_SPEED WIND_DEG SEASON FORECAST_DATETIME\n",
       "1 2.18       248      Spring 1618574400.0     "
      ]
     },
     "metadata": {},
     "output_type": "display_data"
    }
   ],
   "source": [
    "# provide your solution here\n",
    "dbGetQuery(con, 'select * from CITIES_WEATHER_FORECAST\n",
    "                    where CITY = \"Seoul\"\n",
    "                    LIMIT 1')\n"
   ]
  },
  {
   "cell_type": "markdown",
   "metadata": {},
   "source": [
    "## Task 4 - Seasons\n",
    "#### Find which seasons are included in the seoul bike sharing dataset.\n"
   ]
  },
  {
   "cell_type": "markdown",
   "metadata": {},
   "source": [
    "### Solution 4\n"
   ]
  },
  {
   "cell_type": "code",
   "execution_count": 6,
   "metadata": {
    "tags": []
   },
   "outputs": [
    {
     "data": {
      "text/html": [
       "<table>\n",
       "<caption>A data.frame: 4 × 1</caption>\n",
       "<thead>\n",
       "\t<tr><th></th><th scope=col>SEASONS</th></tr>\n",
       "\t<tr><th></th><th scope=col>&lt;chr&gt;</th></tr>\n",
       "</thead>\n",
       "<tbody>\n",
       "\t<tr><th scope=row>1</th><td>Winter</td></tr>\n",
       "\t<tr><th scope=row>2</th><td>Spring</td></tr>\n",
       "\t<tr><th scope=row>3</th><td>Summer</td></tr>\n",
       "\t<tr><th scope=row>4</th><td>Autumn</td></tr>\n",
       "</tbody>\n",
       "</table>\n"
      ],
      "text/latex": [
       "A data.frame: 4 × 1\n",
       "\\begin{tabular}{r|l}\n",
       "  & SEASONS\\\\\n",
       "  & <chr>\\\\\n",
       "\\hline\n",
       "\t1 & Winter\\\\\n",
       "\t2 & Spring\\\\\n",
       "\t3 & Summer\\\\\n",
       "\t4 & Autumn\\\\\n",
       "\\end{tabular}\n"
      ],
      "text/markdown": [
       "\n",
       "A data.frame: 4 × 1\n",
       "\n",
       "| <!--/--> | SEASONS &lt;chr&gt; |\n",
       "|---|---|\n",
       "| 1 | Winter |\n",
       "| 2 | Spring |\n",
       "| 3 | Summer |\n",
       "| 4 | Autumn |\n",
       "\n"
      ],
      "text/plain": [
       "  SEASONS\n",
       "1 Winter \n",
       "2 Spring \n",
       "3 Summer \n",
       "4 Autumn "
      ]
     },
     "metadata": {},
     "output_type": "display_data"
    }
   ],
   "source": [
    "# provide your solution here\n",
    "dbGetQuery(con, 'select distinct SEASONS FROM SEOUL_BIKE_SHARING')"
   ]
  },
  {
   "cell_type": "markdown",
   "metadata": {},
   "source": [
    "## Task 5 - Date Range\n",
    "#### Find the first and last dates in the Seoul Bike Sharing dataset.\n"
   ]
  },
  {
   "cell_type": "markdown",
   "metadata": {},
   "source": [
    "### Solution 5\n"
   ]
  },
  {
   "cell_type": "code",
   "execution_count": 8,
   "metadata": {
    "tags": []
   },
   "outputs": [
    {
     "data": {
      "text/html": [
       "<table>\n",
       "<caption>A data.frame: 353 × 1</caption>\n",
       "<thead>\n",
       "\t<tr><th></th><th scope=col>formated_date</th></tr>\n",
       "\t<tr><th></th><th scope=col>&lt;chr&gt;</th></tr>\n",
       "</thead>\n",
       "<tbody>\n",
       "\t<tr><th scope=row>1</th><td>NA</td></tr>\n",
       "\t<tr><th scope=row>2</th><td>NA</td></tr>\n",
       "\t<tr><th scope=row>3</th><td>NA</td></tr>\n",
       "\t<tr><th scope=row>4</th><td>NA</td></tr>\n",
       "\t<tr><th scope=row>5</th><td>NA</td></tr>\n",
       "\t<tr><th scope=row>6</th><td>NA</td></tr>\n",
       "\t<tr><th scope=row>7</th><td>NA</td></tr>\n",
       "\t<tr><th scope=row>8</th><td>NA</td></tr>\n",
       "\t<tr><th scope=row>9</th><td>NA</td></tr>\n",
       "\t<tr><th scope=row>10</th><td>NA</td></tr>\n",
       "\t<tr><th scope=row>11</th><td>NA</td></tr>\n",
       "\t<tr><th scope=row>12</th><td>NA</td></tr>\n",
       "\t<tr><th scope=row>13</th><td>NA</td></tr>\n",
       "\t<tr><th scope=row>14</th><td>NA</td></tr>\n",
       "\t<tr><th scope=row>15</th><td>NA</td></tr>\n",
       "\t<tr><th scope=row>16</th><td>NA</td></tr>\n",
       "\t<tr><th scope=row>17</th><td>NA</td></tr>\n",
       "\t<tr><th scope=row>18</th><td>NA</td></tr>\n",
       "\t<tr><th scope=row>19</th><td>NA</td></tr>\n",
       "\t<tr><th scope=row>20</th><td>NA</td></tr>\n",
       "\t<tr><th scope=row>21</th><td>NA</td></tr>\n",
       "\t<tr><th scope=row>22</th><td>NA</td></tr>\n",
       "\t<tr><th scope=row>23</th><td>NA</td></tr>\n",
       "\t<tr><th scope=row>24</th><td>NA</td></tr>\n",
       "\t<tr><th scope=row>25</th><td>NA</td></tr>\n",
       "\t<tr><th scope=row>26</th><td>NA</td></tr>\n",
       "\t<tr><th scope=row>27</th><td>NA</td></tr>\n",
       "\t<tr><th scope=row>28</th><td>NA</td></tr>\n",
       "\t<tr><th scope=row>29</th><td>NA</td></tr>\n",
       "\t<tr><th scope=row>30</th><td>NA</td></tr>\n",
       "\t<tr><th scope=row>⋮</th><td>⋮</td></tr>\n",
       "\t<tr><th scope=row>324</th><td>NA</td></tr>\n",
       "\t<tr><th scope=row>325</th><td>NA</td></tr>\n",
       "\t<tr><th scope=row>326</th><td>NA</td></tr>\n",
       "\t<tr><th scope=row>327</th><td>NA</td></tr>\n",
       "\t<tr><th scope=row>328</th><td>NA</td></tr>\n",
       "\t<tr><th scope=row>329</th><td>NA</td></tr>\n",
       "\t<tr><th scope=row>330</th><td>NA</td></tr>\n",
       "\t<tr><th scope=row>331</th><td>NA</td></tr>\n",
       "\t<tr><th scope=row>332</th><td>NA</td></tr>\n",
       "\t<tr><th scope=row>333</th><td>NA</td></tr>\n",
       "\t<tr><th scope=row>334</th><td>NA</td></tr>\n",
       "\t<tr><th scope=row>335</th><td>NA</td></tr>\n",
       "\t<tr><th scope=row>336</th><td>NA</td></tr>\n",
       "\t<tr><th scope=row>337</th><td>NA</td></tr>\n",
       "\t<tr><th scope=row>338</th><td>NA</td></tr>\n",
       "\t<tr><th scope=row>339</th><td>NA</td></tr>\n",
       "\t<tr><th scope=row>340</th><td>NA</td></tr>\n",
       "\t<tr><th scope=row>341</th><td>NA</td></tr>\n",
       "\t<tr><th scope=row>342</th><td>NA</td></tr>\n",
       "\t<tr><th scope=row>343</th><td>NA</td></tr>\n",
       "\t<tr><th scope=row>344</th><td>NA</td></tr>\n",
       "\t<tr><th scope=row>345</th><td>NA</td></tr>\n",
       "\t<tr><th scope=row>346</th><td>NA</td></tr>\n",
       "\t<tr><th scope=row>347</th><td>NA</td></tr>\n",
       "\t<tr><th scope=row>348</th><td>NA</td></tr>\n",
       "\t<tr><th scope=row>349</th><td>NA</td></tr>\n",
       "\t<tr><th scope=row>350</th><td>NA</td></tr>\n",
       "\t<tr><th scope=row>351</th><td>NA</td></tr>\n",
       "\t<tr><th scope=row>352</th><td>NA</td></tr>\n",
       "\t<tr><th scope=row>353</th><td>NA</td></tr>\n",
       "</tbody>\n",
       "</table>\n"
      ],
      "text/latex": [
       "A data.frame: 353 × 1\n",
       "\\begin{tabular}{r|l}\n",
       "  & formated\\_date\\\\\n",
       "  & <chr>\\\\\n",
       "\\hline\n",
       "\t1 & NA\\\\\n",
       "\t2 & NA\\\\\n",
       "\t3 & NA\\\\\n",
       "\t4 & NA\\\\\n",
       "\t5 & NA\\\\\n",
       "\t6 & NA\\\\\n",
       "\t7 & NA\\\\\n",
       "\t8 & NA\\\\\n",
       "\t9 & NA\\\\\n",
       "\t10 & NA\\\\\n",
       "\t11 & NA\\\\\n",
       "\t12 & NA\\\\\n",
       "\t13 & NA\\\\\n",
       "\t14 & NA\\\\\n",
       "\t15 & NA\\\\\n",
       "\t16 & NA\\\\\n",
       "\t17 & NA\\\\\n",
       "\t18 & NA\\\\\n",
       "\t19 & NA\\\\\n",
       "\t20 & NA\\\\\n",
       "\t21 & NA\\\\\n",
       "\t22 & NA\\\\\n",
       "\t23 & NA\\\\\n",
       "\t24 & NA\\\\\n",
       "\t25 & NA\\\\\n",
       "\t26 & NA\\\\\n",
       "\t27 & NA\\\\\n",
       "\t28 & NA\\\\\n",
       "\t29 & NA\\\\\n",
       "\t30 & NA\\\\\n",
       "\t⋮ & ⋮\\\\\n",
       "\t324 & NA\\\\\n",
       "\t325 & NA\\\\\n",
       "\t326 & NA\\\\\n",
       "\t327 & NA\\\\\n",
       "\t328 & NA\\\\\n",
       "\t329 & NA\\\\\n",
       "\t330 & NA\\\\\n",
       "\t331 & NA\\\\\n",
       "\t332 & NA\\\\\n",
       "\t333 & NA\\\\\n",
       "\t334 & NA\\\\\n",
       "\t335 & NA\\\\\n",
       "\t336 & NA\\\\\n",
       "\t337 & NA\\\\\n",
       "\t338 & NA\\\\\n",
       "\t339 & NA\\\\\n",
       "\t340 & NA\\\\\n",
       "\t341 & NA\\\\\n",
       "\t342 & NA\\\\\n",
       "\t343 & NA\\\\\n",
       "\t344 & NA\\\\\n",
       "\t345 & NA\\\\\n",
       "\t346 & NA\\\\\n",
       "\t347 & NA\\\\\n",
       "\t348 & NA\\\\\n",
       "\t349 & NA\\\\\n",
       "\t350 & NA\\\\\n",
       "\t351 & NA\\\\\n",
       "\t352 & NA\\\\\n",
       "\t353 & NA\\\\\n",
       "\\end{tabular}\n"
      ],
      "text/markdown": [
       "\n",
       "A data.frame: 353 × 1\n",
       "\n",
       "| <!--/--> | formated_date &lt;chr&gt; |\n",
       "|---|---|\n",
       "| 1 | NA |\n",
       "| 2 | NA |\n",
       "| 3 | NA |\n",
       "| 4 | NA |\n",
       "| 5 | NA |\n",
       "| 6 | NA |\n",
       "| 7 | NA |\n",
       "| 8 | NA |\n",
       "| 9 | NA |\n",
       "| 10 | NA |\n",
       "| 11 | NA |\n",
       "| 12 | NA |\n",
       "| 13 | NA |\n",
       "| 14 | NA |\n",
       "| 15 | NA |\n",
       "| 16 | NA |\n",
       "| 17 | NA |\n",
       "| 18 | NA |\n",
       "| 19 | NA |\n",
       "| 20 | NA |\n",
       "| 21 | NA |\n",
       "| 22 | NA |\n",
       "| 23 | NA |\n",
       "| 24 | NA |\n",
       "| 25 | NA |\n",
       "| 26 | NA |\n",
       "| 27 | NA |\n",
       "| 28 | NA |\n",
       "| 29 | NA |\n",
       "| 30 | NA |\n",
       "| ⋮ | ⋮ |\n",
       "| 324 | NA |\n",
       "| 325 | NA |\n",
       "| 326 | NA |\n",
       "| 327 | NA |\n",
       "| 328 | NA |\n",
       "| 329 | NA |\n",
       "| 330 | NA |\n",
       "| 331 | NA |\n",
       "| 332 | NA |\n",
       "| 333 | NA |\n",
       "| 334 | NA |\n",
       "| 335 | NA |\n",
       "| 336 | NA |\n",
       "| 337 | NA |\n",
       "| 338 | NA |\n",
       "| 339 | NA |\n",
       "| 340 | NA |\n",
       "| 341 | NA |\n",
       "| 342 | NA |\n",
       "| 343 | NA |\n",
       "| 344 | NA |\n",
       "| 345 | NA |\n",
       "| 346 | NA |\n",
       "| 347 | NA |\n",
       "| 348 | NA |\n",
       "| 349 | NA |\n",
       "| 350 | NA |\n",
       "| 351 | NA |\n",
       "| 352 | NA |\n",
       "| 353 | NA |\n",
       "\n"
      ],
      "text/plain": [
       "    formated_date\n",
       "1   NA           \n",
       "2   NA           \n",
       "3   NA           \n",
       "4   NA           \n",
       "5   NA           \n",
       "6   NA           \n",
       "7   NA           \n",
       "8   NA           \n",
       "9   NA           \n",
       "10  NA           \n",
       "11  NA           \n",
       "12  NA           \n",
       "13  NA           \n",
       "14  NA           \n",
       "15  NA           \n",
       "16  NA           \n",
       "17  NA           \n",
       "18  NA           \n",
       "19  NA           \n",
       "20  NA           \n",
       "21  NA           \n",
       "22  NA           \n",
       "23  NA           \n",
       "24  NA           \n",
       "25  NA           \n",
       "26  NA           \n",
       "27  NA           \n",
       "28  NA           \n",
       "29  NA           \n",
       "30  NA           \n",
       "⋮   ⋮            \n",
       "324 NA           \n",
       "325 NA           \n",
       "326 NA           \n",
       "327 NA           \n",
       "328 NA           \n",
       "329 NA           \n",
       "330 NA           \n",
       "331 NA           \n",
       "332 NA           \n",
       "333 NA           \n",
       "334 NA           \n",
       "335 NA           \n",
       "336 NA           \n",
       "337 NA           \n",
       "338 NA           \n",
       "339 NA           \n",
       "340 NA           \n",
       "341 NA           \n",
       "342 NA           \n",
       "343 NA           \n",
       "344 NA           \n",
       "345 NA           \n",
       "346 NA           \n",
       "347 NA           \n",
       "348 NA           \n",
       "349 NA           \n",
       "350 NA           \n",
       "351 NA           \n",
       "352 NA           \n",
       "353 NA           "
      ]
     },
     "metadata": {},
     "output_type": "display_data"
    }
   ],
   "source": [
    "# provide your solution here\n",
    "#dbGetQuery(con, 'select DATE from SEOUL_BIKE_SHARING limit 10')\n",
    "dbGetQuery(con, 'SELECT STRFTIME(\"%d/%m/%Y\", \"DATE\") AS formated_date FROM SEOUL_BIKE_SHARING GROUP BY DATE')\n",
    "#dbGetQuery(con, 'select try_cast(DATE as date) from SEOUL_BIKE_SHARING limit 5')"
   ]
  },
  {
   "cell_type": "markdown",
   "metadata": {},
   "source": [
    "## Task 6 - Subquery - 'all-time high'\n",
    "#### determine which date and hour had the most bike rentals.\n"
   ]
  },
  {
   "cell_type": "markdown",
   "metadata": {},
   "source": [
    "### Solution 6\n"
   ]
  },
  {
   "cell_type": "code",
   "execution_count": null,
   "metadata": {},
   "outputs": [],
   "source": [
    "# provide your solution here\n",
    "dbGetQuery(con, 'select"
   ]
  },
  {
   "cell_type": "markdown",
   "metadata": {},
   "source": [
    "## Task 7 - Hourly popularity and temperature by season\n",
    "#### Determine the average hourly temperature and the average number of bike rentals per hour over each season. List the top ten results by average bike count.\n"
   ]
  },
  {
   "cell_type": "markdown",
   "metadata": {},
   "source": [
    "### Solution 7\n"
   ]
  },
  {
   "cell_type": "code",
   "execution_count": null,
   "metadata": {},
   "outputs": [],
   "source": [
    "# provide your solution here"
   ]
  },
  {
   "cell_type": "markdown",
   "metadata": {},
   "source": [
    "## Task 8 - Rental Seasonality\n",
    "#### Find the average hourly bike count during each season. \n",
    "Also include the minimum, maximum, and standard deviation of the hourly bike count for each season. \n",
    "\n",
    "> Hint : Use the SQRT(AVG(col*col) - AVG(col)*AVG(col) ) function where col refers to your column name for finding the standard deviation\n"
   ]
  },
  {
   "cell_type": "markdown",
   "metadata": {},
   "source": [
    "### Solution 8\n"
   ]
  },
  {
   "cell_type": "code",
   "execution_count": null,
   "metadata": {},
   "outputs": [],
   "source": [
    "# provide your solution here"
   ]
  },
  {
   "cell_type": "markdown",
   "metadata": {},
   "source": [
    "Let's explore a bit and see what might be the most significant contributing factors in terms of the provided data.\n"
   ]
  },
  {
   "cell_type": "markdown",
   "metadata": {},
   "source": [
    "## Task 9 - Weather Seasonality\n",
    "#### Consider the weather over each season. On average, what were the TEMPERATURE, HUMIDITY, WIND_SPEED, VISIBILITY, DEW_POINT_TEMPERATURE, SOLAR_RADIATION, RAINFALL, and SNOWFALL per season?\n",
    "Include the average bike count as well , and rank the results by average bike count so you can see if it is correlated with the weather at all. \n"
   ]
  },
  {
   "cell_type": "markdown",
   "metadata": {},
   "source": [
    "### Solution 9\n"
   ]
  },
  {
   "cell_type": "code",
   "execution_count": null,
   "metadata": {},
   "outputs": [],
   "source": [
    "# provide your solution here"
   ]
  },
  {
   "cell_type": "markdown",
   "metadata": {},
   "source": [
    "## Task 10 - Total Bike Count and City Info for Seoul\n",
    "#### Use an implicit join across the WORLD_CITIES and the BIKE_SHARING_SYSTEMS tables to determine the total number of bikes avaialble in Seoul, plus the following city information about Seoul: CITY, COUNTRY, LAT, LON, POPULATION, in a single view.\n",
    "Notice that in this case, the CITY column will work for the WORLD_CITIES table, but in general you would have to use the CITY_ASCII column.\n"
   ]
  },
  {
   "cell_type": "markdown",
   "metadata": {},
   "source": [
    "### Solution 10\n"
   ]
  },
  {
   "cell_type": "code",
   "execution_count": null,
   "metadata": {},
   "outputs": [],
   "source": [
    "# provide your solution here"
   ]
  },
  {
   "cell_type": "markdown",
   "metadata": {},
   "source": [
    "## Task 11 - Find all city names and coordinates with comparable bike scale to Seoul's bike sharing system\n",
    "#### Find all cities with total bike counts between 15000 and 20000. Return the city and country names, plus the coordinates (LAT, LNG), population, and number of bicycles for each city.\n",
    "Later we will ask you to visualize these similar cities on leaflet, with some weather data.\n"
   ]
  },
  {
   "cell_type": "markdown",
   "metadata": {},
   "source": [
    "### Solution 11\n"
   ]
  },
  {
   "cell_type": "code",
   "execution_count": null,
   "metadata": {},
   "outputs": [],
   "source": [
    "# provide your solution here"
   ]
  },
  {
   "cell_type": "code",
   "execution_count": null,
   "metadata": {},
   "outputs": [],
   "source": [
    "close(conn)"
   ]
  },
  {
   "cell_type": "markdown",
   "metadata": {},
   "source": [
    "## Author(s)\n",
    "\n",
    "<h4> Jeff Grossman </h4>\n",
    "<h4> Lakshmi Holla </h4>\n",
    "\n",
    "\n",
    "## Other Contributor(s)\n",
    "\n",
    "<h4>  Malika Singla </h4>\n",
    "\n",
    "<!--## Change log\n",
    "\n",
    "| Date (YYYY-MM-DD) | Version | Changed By | Change Description                 |\n",
    "| ----------------- | ------- | ---------- | ---------------------------------- |\n",
    "| 2022-03-03        | 1.0     |Lakshmi Holla  | Created lab using sqlite3          |-->\n",
    "\n",
    "## <h3 align=\"center\"> © IBM Corporation 2022. All rights reserved. <h3/>\n"
   ]
  },
  {
   "cell_type": "code",
   "execution_count": null,
   "metadata": {},
   "outputs": [],
   "source": []
  }
 ],
 "metadata": {
  "kernelspec": {
   "display_name": "R",
   "language": "R",
   "name": "conda-env-r-r"
  },
  "language_info": {
   "codemirror_mode": "r",
   "file_extension": ".r",
   "mimetype": "text/x-r-source",
   "name": "R",
   "pygments_lexer": "r",
   "version": "3.5.1"
  },
  "prev_pub_hash": "aec4d69ac9a601945e548ceeb943a3da719b90cac1cddd3d200b7d1ab9ce6d13"
 },
 "nbformat": 4,
 "nbformat_minor": 4
}
